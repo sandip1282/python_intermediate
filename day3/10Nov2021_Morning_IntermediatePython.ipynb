{
 "cells": [
  {
   "cell_type": "markdown",
   "metadata": {},
   "source": [
    "# Higher Order Functions"
   ]
  },
  {
   "cell_type": "code",
   "execution_count": 1,
   "metadata": {},
   "outputs": [
    {
     "name": "stdout",
     "output_type": "stream",
     "text": [
      "emp1 =  <function Parent.<locals>.Elder at 0x039C0078>\n"
     ]
    }
   ],
   "source": [
    "\n",
    "def Parent(age):\n",
    "    \n",
    "    def Younger():\n",
    "        print(\"Younger job done\")\n",
    "    def Elder():\n",
    "        print(\"Elder job done\")\n",
    "        \n",
    "    if age < 18:\n",
    "        return Younger\n",
    "    else:\n",
    "        return Elder\n",
    "    \n",
    "if '__main__' == __name__:  \n",
    "    emp1 = Parent(25)\n",
    "    print(\"emp1 = \", emp1)\n",
    "    "
   ]
  },
  {
   "cell_type": "code",
   "execution_count": 2,
   "metadata": {},
   "outputs": [
    {
     "name": "stdout",
     "output_type": "stream",
     "text": [
      "emp1 =  <function Parent.<locals>.Elder at 0x039C0030>\n",
      "Elder job done: age=  25\n"
     ]
    }
   ],
   "source": [
    "# Closures\n",
    "def Parent(age):\n",
    "    \n",
    "    def Younger():\n",
    "        print(\"Younger job done: age= \", age)\n",
    "    def Elder():\n",
    "        print(\"Elder job done: age= \", age)\n",
    "        \n",
    "    if age < 18:\n",
    "        return Younger\n",
    "    else:\n",
    "        return Elder\n",
    "    \n",
    "if '__main__' == __name__:  \n",
    "    emp1 = Parent(25)\n",
    "    print(\"emp1 = \", emp1)\n",
    "    emp1()"
   ]
  },
  {
   "cell_type": "code",
   "execution_count": 3,
   "metadata": {},
   "outputs": [
    {
     "name": "stdout",
     "output_type": "stream",
     "text": [
      " Acquire resources\n",
      " -- add called --\n",
      "add(5,6)=  11\n",
      " Release Acquired resources\n",
      "= = = = = = = = = = \n"
     ]
    }
   ],
   "source": [
    "\n",
    "# Lib\n",
    "def add(x,y):\n",
    "    print(\" -- add called --\")\n",
    "    return x + y\n",
    "\n",
    "# app\n",
    "if '__main__' == __name__:\n",
    "    print(\" Acquire resources\")\n",
    "    print(\"add(5,6)= \", add(5,6))\n",
    "    print(\" Release Acquired resources\")\n",
    "    print(\"= \" * 10)\n",
    "        "
   ]
  },
  {
   "cell_type": "code",
   "execution_count": 4,
   "metadata": {},
   "outputs": [
    {
     "name": "stdout",
     "output_type": "stream",
     "text": [
      " Acquire resources\n",
      " -- add called --\n",
      "add(5,6)=  11\n",
      " Release Acquired resources\n",
      "= = = = = = = = = = \n",
      " Acquire resources\n",
      " -- sub called --\n",
      "sub(5,6)=  -1\n",
      " Release Acquired resources\n",
      "= = = = = = = = = = \n"
     ]
    }
   ],
   "source": [
    "\n",
    "# Lib\n",
    "def add(x,y):\n",
    "    print(\" -- add called --\")\n",
    "    return x + y\n",
    "\n",
    "def sub(x,y):\n",
    "    print(\" -- sub called --\")\n",
    "    return x - y\n",
    "\n",
    "# app\n",
    "if '__main__' == __name__:\n",
    "    print(\" Acquire resources\")\n",
    "    print(\"add(5,6)= \", add(5,6))\n",
    "    print(\" Release Acquired resources\")\n",
    "    print(\"= \" * 10)\n",
    "    \n",
    "    print(\" Acquire resources\") #DRY\n",
    "    print(\"sub(5,6)= \", sub(5,6))\n",
    "    print(\" Release Acquired resources\")\n",
    "    print(\"= \" * 10)"
   ]
  },
  {
   "cell_type": "code",
   "execution_count": 5,
   "metadata": {},
   "outputs": [
    {
     "name": "stdout",
     "output_type": "stream",
     "text": [
      " Acquire resources\n",
      " -- add called --\n",
      "add(5,6)=  11\n",
      " Release Acquired resources\n",
      "= = = = = = = = = = \n"
     ]
    }
   ],
   "source": [
    "\n",
    "# Lib\n",
    "def add(x,y):\n",
    "    print(\" -- add called --\")\n",
    "    return x + y\n",
    "\n",
    "def sub(x,y):\n",
    "    print(\" -- sub called --\")\n",
    "    return x - y\n",
    "\n",
    "# Middle-Ware \n",
    "def callback():\n",
    "    print(\" Acquire resources\")\n",
    "    print(\"add(5,6)= \", add(5,6))\n",
    "    print(\" Release Acquired resources\")\n",
    "    print(\"= \" * 10)\n",
    "\n",
    "\n",
    "# app\n",
    "if '__main__' == __name__:\n",
    "        callback()\n"
   ]
  },
  {
   "cell_type": "code",
   "execution_count": 6,
   "metadata": {},
   "outputs": [
    {
     "name": "stdout",
     "output_type": "stream",
     "text": [
      " Acquire resources\n",
      " -- add called --\n",
      "add(5,6)=  11\n",
      " Release Acquired resources\n",
      "= = = = = = = = = = \n",
      " Acquire resources\n",
      " -- sub called --\n",
      "add(5,6)=  -1\n",
      " Release Acquired resources\n",
      "= = = = = = = = = = \n"
     ]
    }
   ],
   "source": [
    "\n",
    "# Lib\n",
    "def add(x,y):\n",
    "    print(\" -- add called --\")\n",
    "    return x + y\n",
    "\n",
    "def sub(x,y):\n",
    "    print(\" -- sub called --\")\n",
    "    return x - y\n",
    "\n",
    "# Middle-Ware \n",
    "def callback(fn):\n",
    "    print(\" Acquire resources\")\n",
    "    print(\"add(5,6)= \", fn(5,6))\n",
    "    print(\" Release Acquired resources\")\n",
    "    print(\"= \" * 10)\n",
    "\n",
    "\n",
    "# app\n",
    "if '__main__' == __name__:\n",
    "    callback(add)\n",
    "    callback(sub)"
   ]
  },
  {
   "cell_type": "code",
   "execution_count": 7,
   "metadata": {},
   "outputs": [
    {
     "name": "stdout",
     "output_type": "stream",
     "text": [
      " Acquire resources\n",
      " -- add called --\n",
      "add(5,6)=  11\n",
      " Release Acquired resources\n",
      "= = = = = = = = = = \n",
      "result=  None\n",
      " =  =  =  =  = \n",
      " Acquire resources\n",
      " -- sub called --\n",
      "add(5,6)=  -1\n",
      " Release Acquired resources\n",
      "= = = = = = = = = = \n",
      "result=  None\n",
      " =  =  =  =  = \n"
     ]
    }
   ],
   "source": [
    "\n",
    "# Lib\n",
    "def add(x,y):\n",
    "    print(\" -- add called --\")\n",
    "    return x + y\n",
    "\n",
    "def sub(x,y):\n",
    "    print(\" -- sub called --\")\n",
    "    return x - y\n",
    "\n",
    "# Middle-Ware \n",
    "def callback(fn):\n",
    "    print(\" Acquire resources\")\n",
    "    print(\"add(5,6)= \", fn(5,6))\n",
    "    print(\" Release Acquired resources\")\n",
    "    print(\"= \" * 10)\n",
    "\n",
    "\n",
    "# app\n",
    "if '__main__' == __name__:\n",
    "    result = callback(add)\n",
    "    print(\"result= \", result)\n",
    "    print(\" = \"*5)\n",
    "    \n",
    "    result = callback(sub)\n",
    "    print(\"result= \", result)\n",
    "    print(\" = \"*5)"
   ]
  },
  {
   "cell_type": "code",
   "execution_count": 8,
   "metadata": {},
   "outputs": [
    {
     "name": "stdout",
     "output_type": "stream",
     "text": [
      " Acquire resources\n",
      " -- add called --\n",
      " Release Acquired resources\n",
      "= = = = = = = = = = \n",
      "result=  11\n",
      " =  =  =  =  = \n",
      " Acquire resources\n",
      " -- sub called --\n",
      " Release Acquired resources\n",
      "= = = = = = = = = = \n",
      "result=  -1\n",
      " =  =  =  =  = \n"
     ]
    }
   ],
   "source": [
    "\n",
    "# Lib\n",
    "def add(x,y):\n",
    "    print(\" -- add called --\")\n",
    "    return x + y\n",
    "\n",
    "def sub(x,y):\n",
    "    print(\" -- sub called --\")\n",
    "    return x - y\n",
    "\n",
    "# Middle-Ware \n",
    "def callback(fn):\n",
    "    print(\" Acquire resources\")\n",
    "    #print(\"add(5,6)= \", fn(5,6))\n",
    "    retVal = fn(5,6)\n",
    "    print(\" Release Acquired resources\")\n",
    "    print(\"= \" * 10)\n",
    "    return retVal\n",
    "\n",
    "\n",
    "# app\n",
    "if '__main__' == __name__:\n",
    "    result = callback(add)\n",
    "    print(\"result= \", result)\n",
    "    print(\" = \"*5)\n",
    "    \n",
    "    result = callback(sub)\n",
    "    print(\"result= \", result)\n",
    "    print(\" = \"*5)"
   ]
  },
  {
   "cell_type": "code",
   "execution_count": 10,
   "metadata": {},
   "outputs": [
    {
     "name": "stdout",
     "output_type": "stream",
     "text": [
      "sum=  <function callback.<locals>.inner at 0x0399BDF8>\n",
      " =  =  =  =  = \n",
      " Acquire resources\n",
      " -- add called --\n",
      " Release Acquired resources\n",
      "= = = = = = = = = = \n",
      "sum(4,5)=  9\n",
      " Acquire resources\n",
      " -- add called --\n",
      " Release Acquired resources\n",
      "= = = = = = = = = = \n",
      "sum(8,6)=  14\n"
     ]
    }
   ],
   "source": [
    "\n",
    "# Lib\n",
    "def add(x,y):\n",
    "    print(\" -- add called --\")\n",
    "    return x + y\n",
    "\n",
    "# Middle-Ware \n",
    "def callback(fn):\n",
    "    def inner(x,y):\n",
    "        print(\" Acquire resources\")\n",
    "        retVal = fn(x,y)\n",
    "        print(\" Release Acquired resources\")\n",
    "        print(\"= \" * 10)\n",
    "        return retVal\n",
    "    return inner\n",
    "\n",
    "\n",
    "# app\n",
    "if '__main__' == __name__:\n",
    "    sum = callback(add)\n",
    "    print(\"sum= \", sum)\n",
    "    print(\" = \"*5)\n",
    "    \n",
    "    print(\"sum(4,5)= \", sum(4,5))\n",
    "    print(\"sum(8,6)= \", sum(8,6))\n",
    "    \n"
   ]
  },
  {
   "cell_type": "code",
   "execution_count": 11,
   "metadata": {},
   "outputs": [
    {
     "name": "stdout",
     "output_type": "stream",
     "text": [
      "sum=  <function callback.<locals>.inner at 0x039C05D0>\n",
      " =  =  =  =  = \n",
      " Acquire resources\n",
      " -- add called --\n",
      " Release Acquired resources\n",
      "= = = = = = = = = = \n",
      "sum(4,5)=  9\n",
      " Acquire resources\n",
      " -- add called --\n",
      " Release Acquired resources\n",
      "= = = = = = = = = = \n",
      "sum(8,6)=  14\n"
     ]
    }
   ],
   "source": [
    "\n",
    "# Middle-Ware \n",
    "def callback(fn):\n",
    "    def inner(x,y):\n",
    "        print(\" Acquire resources\")\n",
    "        retVal = fn(x,y)\n",
    "        print(\" Release Acquired resources\")\n",
    "        print(\"= \" * 10)\n",
    "        return retVal\n",
    "    return inner\n",
    "\n",
    "\n",
    "# app\n",
    "if '__main__' == __name__:\n",
    "    def add(x,y):\n",
    "        print(\" -- add called --\")\n",
    "        return x + y\n",
    "\n",
    "    sum = callback(add)\n",
    "    print(\"sum= \", sum)\n",
    "    print(\" = \"*5)\n",
    "    \n",
    "    print(\"sum(4,5)= \", sum(4,5))\n",
    "    print(\"sum(8,6)= \", sum(8,6))\n",
    "    \n"
   ]
  },
  {
   "cell_type": "code",
   "execution_count": 12,
   "metadata": {},
   "outputs": [
    {
     "name": "stdout",
     "output_type": "stream",
     "text": [
      "add=  <function add at 0x0399BDF8>\n",
      " =  =  =  =  = \n",
      "add=  <function callback.<locals>.inner at 0x0399BF60>\n",
      " =  =  =  =  = \n",
      " Acquire resources\n",
      " -- add called --\n",
      " Release Acquired resources\n",
      "= = = = = = = = = = \n",
      "add(4,5)=  9\n",
      " Acquire resources\n",
      " -- add called --\n",
      " Release Acquired resources\n",
      "= = = = = = = = = = \n",
      "add(8,6)=  14\n"
     ]
    }
   ],
   "source": [
    "\n",
    "# Middle-Ware \n",
    "def callback(fn):\n",
    "    def inner(x,y):\n",
    "        print(\" Acquire resources\")\n",
    "        retVal = fn(x,y)\n",
    "        print(\" Release Acquired resources\")\n",
    "        print(\"= \" * 10)\n",
    "        return retVal\n",
    "    return inner\n",
    "\n",
    "\n",
    "# app\n",
    "if '__main__' == __name__:\n",
    "    def add(x,y):\n",
    "        print(\" -- add called --\")\n",
    "        return x + y\n",
    "\n",
    "    print(\"add= \", add)\n",
    "    print(\" = \"*5)\n",
    "    add = callback(add)\n",
    "    print(\"add= \", add)\n",
    "    print(\" = \"*5)\n",
    "    \n",
    "    print(\"add(4,5)= \", add(4,5))\n",
    "    print(\"add(8,6)= \", add(8,6))"
   ]
  },
  {
   "cell_type": "code",
   "execution_count": 13,
   "metadata": {},
   "outputs": [
    {
     "name": "stdout",
     "output_type": "stream",
     "text": [
      " =  =  =  =  = \n",
      "add=  <function callback.<locals>.inner at 0x039C0D20>\n",
      " =  =  =  =  = \n",
      " Acquire resources\n",
      " -- add called --\n",
      " Release Acquired resources\n",
      "= = = = = = = = = = \n",
      "add(4,5)=  9\n",
      " Acquire resources\n",
      " -- add called --\n",
      " Release Acquired resources\n",
      "= = = = = = = = = = \n",
      "add(8,6)=  14\n"
     ]
    }
   ],
   "source": [
    "\n",
    "# Middle-Ware \n",
    "def callback(fn):\n",
    "    def inner(x,y):\n",
    "        print(\" Acquire resources\")\n",
    "        retVal = fn(x,y)\n",
    "        print(\" Release Acquired resources\")\n",
    "        print(\"= \" * 10)\n",
    "        return retVal\n",
    "    return inner\n",
    "\n",
    "\n",
    "# app\n",
    "if '__main__' == __name__:\n",
    "    @callback\n",
    "    def add(x,y):\n",
    "        print(\" -- add called --\")\n",
    "        return x + y\n",
    "\n",
    "    #print(\"add= \", add)\n",
    "    print(\" = \"*5)\n",
    "    #add = callback(add)\n",
    "    print(\"add= \", add)\n",
    "    print(\" = \"*5)\n",
    "    \n",
    "    print(\"add(4,5)= \", add(4,5))\n",
    "    print(\"add(8,6)= \", add(8,6))"
   ]
  },
  {
   "cell_type": "code",
   "execution_count": 16,
   "metadata": {},
   "outputs": [
    {
     "name": "stdout",
     "output_type": "stream",
     "text": [
      " -- multiplication called --\n",
      " multi5(8) =  40\n",
      " -- multiplication called --\n",
      " multi5(6) =  30\n"
     ]
    }
   ],
   "source": [
    "\n",
    "def multiplication(x,y):\n",
    "        print(\" -- multiplication called --\")\n",
    "        return x * y\n",
    "    \n",
    "def decorator(fn):\n",
    "    def inner(x):\n",
    "        def innerMost(y):\n",
    "            return fn(x,y)\n",
    "        return innerMost\n",
    "    return inner\n",
    "\n",
    "# app\n",
    "if '__main__' == __name__:\n",
    "    multi = decorator(multiplication)\n",
    "    multi5 = multi(5)\n",
    "    print(\" multi5(8) = \", multi5(8))\n",
    "    print(\" multi5(6) = \", multi5(6))"
   ]
  },
  {
   "cell_type": "code",
   "execution_count": 17,
   "metadata": {},
   "outputs": [
    {
     "name": "stdout",
     "output_type": "stream",
     "text": [
      "- -- -- -- -- -- -- -- -- -- -\n",
      " -- multiplication called --\n",
      " multi5(8) =  40\n",
      "- -- -- -- -- -- -- -- -- -- -\n",
      " -- multiplication called --\n",
      " multi5(6) =  30\n",
      "- -- -- -- -- -- -- -- -- -- -\n",
      "- -- -- -- -- -- -- -- -- -- -\n",
      " -- multiplication called --\n",
      " multi9(6) =  54\n"
     ]
    }
   ],
   "source": [
    "\n",
    "def multiplication(x,y):\n",
    "        print(\" -- multiplication called --\")\n",
    "        return x * y\n",
    "    \n",
    "def decorator(fn):\n",
    "    def inner(x):\n",
    "        def innerMost(y):\n",
    "            return fn(x,y)\n",
    "        return innerMost\n",
    "    return inner\n",
    "\n",
    "# app\n",
    "if '__main__' == __name__:\n",
    "    multi = decorator(multiplication)\n",
    "    multi5 = multi(5)\n",
    "    print(\"- -\"*10)\n",
    "    print(\" multi5(8) = \", multi5(8))\n",
    "    print(\"- -\"*10)\n",
    "    print(\" multi5(6) = \", multi5(6))\n",
    "    print(\"- -\"*10)\n",
    "    multi9 = multi(9)\n",
    "    print(\"- -\"*10)\n",
    "    print(\" multi9(6) = \", multi9(6))\n",
    "    "
   ]
  },
  {
   "cell_type": "markdown",
   "metadata": {},
   "source": [
    "# Class Decorators"
   ]
  },
  {
   "cell_type": "code",
   "execution_count": 19,
   "metadata": {},
   "outputs": [
    {
     "name": "stdout",
     "output_type": "stream",
     "text": [
      "cA.m_fun1111\n"
     ]
    }
   ],
   "source": [
    "\n",
    "#SOLID \n",
    "\n",
    "class cA:\n",
    "    def m_fun1(self) :\n",
    "        print(\"cA.m_fun1111\")\n",
    "\n",
    "# app\n",
    "if '__main__' == __name__:\n",
    "    obj = cA()\n",
    "    obj.m_fun1()"
   ]
  },
  {
   "cell_type": "code",
   "execution_count": 20,
   "metadata": {},
   "outputs": [
    {
     "name": "stdout",
     "output_type": "stream",
     "text": [
      "cA.m_fun1111\n",
      "cA.m_fun2222\n"
     ]
    }
   ],
   "source": [
    "'''\n",
    "1. OOPS Concept\n",
    "2. UML\n",
    "3. GRASP\n",
    "4. GOF Design Patterns\n",
    "5. Architectural Patterns\n",
    "6. Anti-Patterns\n",
    "7. Domain Patterns\n",
    "8. Enterprise Patterns\n",
    "'''\n",
    "\n",
    "class cA:\n",
    "    def m_fun1(self) :\n",
    "        print(\"cA.m_fun1111\")\n",
    "        \n",
    "    def m_fun2(self) :\n",
    "        print(\"cA.m_fun2222\")\n",
    "        \n",
    "# app\n",
    "if '__main__' == __name__:\n",
    "    obj = cA()\n",
    "    obj.m_fun1()\n",
    "    obj.m_fun2()"
   ]
  },
  {
   "cell_type": "code",
   "execution_count": 21,
   "metadata": {},
   "outputs": [
    {
     "ename": "TypeError",
     "evalue": "'cA' object is not callable",
     "output_type": "error",
     "traceback": [
      "\u001b[1;31m---------------------------------------------------------------------------\u001b[0m",
      "\u001b[1;31mTypeError\u001b[0m                                 Traceback (most recent call last)",
      "\u001b[1;32m<ipython-input-21-ea3068558bec>\u001b[0m in \u001b[0;36m<module>\u001b[1;34m()\u001b[0m\n\u001b[0;32m     10\u001b[0m \u001b[1;32mif\u001b[0m \u001b[1;34m'__main__'\u001b[0m \u001b[1;33m==\u001b[0m \u001b[0m__name__\u001b[0m\u001b[1;33m:\u001b[0m\u001b[1;33m\u001b[0m\u001b[0m\n\u001b[0;32m     11\u001b[0m     \u001b[0mobj\u001b[0m \u001b[1;33m=\u001b[0m \u001b[0mcA\u001b[0m\u001b[1;33m(\u001b[0m\u001b[1;33m)\u001b[0m\u001b[1;33m\u001b[0m\u001b[0m\n\u001b[1;32m---> 12\u001b[1;33m     \u001b[0mobj\u001b[0m\u001b[1;33m(\u001b[0m\u001b[1;36m1\u001b[0m\u001b[1;33m)\u001b[0m\u001b[1;33m\u001b[0m\u001b[0m\n\u001b[0m\u001b[0;32m     13\u001b[0m     \u001b[0mobj\u001b[0m\u001b[1;33m(\u001b[0m\u001b[1;36m2\u001b[0m\u001b[1;33m)\u001b[0m\u001b[1;33m\u001b[0m\u001b[0m\n",
      "\u001b[1;31mTypeError\u001b[0m: 'cA' object is not callable"
     ]
    }
   ],
   "source": [
    "\n",
    "class cA:\n",
    "    def m_fun1(self) :\n",
    "        print(\"cA.m_fun1111\")\n",
    "        \n",
    "    def m_fun2(self) :\n",
    "        print(\"cA.m_fun2222\")\n",
    "        \n",
    "# app\n",
    "if '__main__' == __name__:\n",
    "    obj = cA()\n",
    "    obj(1)\n",
    "    obj(2)"
   ]
  },
  {
   "cell_type": "code",
   "execution_count": 24,
   "metadata": {},
   "outputs": [
    {
     "name": "stdout",
     "output_type": "stream",
     "text": [
      "cA.m_fun1111\n",
      "cA.m_fun2222\n"
     ]
    }
   ],
   "source": [
    "\n",
    "class cA:\n",
    "    def m_fun1(self) :\n",
    "        print(\"cA.m_fun1111\")\n",
    "        \n",
    "    def m_fun2(self) :\n",
    "        print(\"cA.m_fun2222\")\n",
    "        \n",
    "    def __call__(self, fid):\n",
    "        if 1 == fid: # from python 3.10 use match as switch-case\n",
    "            return self.m_fun1()\n",
    "        elif 2 == fid:\n",
    "            return self.m_fun2()\n",
    "            \n",
    "# app\n",
    "if '__main__' == __name__:\n",
    "    obj = cA()\n",
    "    obj(1)\n",
    "    obj(2)"
   ]
  },
  {
   "cell_type": "code",
   "execution_count": 25,
   "metadata": {},
   "outputs": [
    {
     "name": "stdout",
     "output_type": "stream",
     "text": [
      "cA.m_fun4444\n",
      "cA.m_fun5555\n"
     ]
    }
   ],
   "source": [
    "\n",
    "class cA:\n",
    "    def m_fun4(self) :\n",
    "        print(\"cA.m_fun4444\")\n",
    "        \n",
    "    def m_fun5(self) :\n",
    "        print(\"cA.m_fun5555\")\n",
    "        \n",
    "    def __call__(self, fid):\n",
    "        if 1 == fid: # from python 3.10 use match as switch-case\n",
    "            #return self.m_fun1()\n",
    "            return self.m_fun4()\n",
    "        elif 2 == fid:\n",
    "            #return self.m_fun2()\n",
    "            return self.m_fun5()\n",
    "            \n",
    "# app\n",
    "if '__main__' == __name__:\n",
    "    obj = cA()\n",
    "    obj(1)\n",
    "    obj(2)"
   ]
  },
  {
   "cell_type": "code",
   "execution_count": 29,
   "metadata": {},
   "outputs": [
    {
     "name": "stdout",
     "output_type": "stream",
     "text": [
      " -- add called --\n",
      "calc(1)=  9\n",
      " -- mul called --\n",
      "calc(2)=  20\n"
     ]
    }
   ],
   "source": [
    "\n",
    "# Middle-Ware \n",
    "def callback(fn):\n",
    "    def inner(x,y):\n",
    "        print(\" Acquire resources\")\n",
    "        retVal = fn(x,y)\n",
    "        print(\" Release Acquired resources\")\n",
    "        print(\"= \" * 10)\n",
    "        return retVal\n",
    "    return inner\n",
    "\n",
    "class MyCalculator:\n",
    "    def __init__(self, x, y):\n",
    "        self.x = x\n",
    "        self.y = y\n",
    "        \n",
    "    def add(self, x,y):\n",
    "        print(\" -- add called --\")\n",
    "        return x + y\n",
    "    \n",
    "    def mul(self, x,y):\n",
    "        print(\" -- mul called --\")\n",
    "        return x * y\n",
    "\n",
    "    def __call__(self, id):\n",
    "        if 1 == id :\n",
    "            return self.add(self.x, self.y)\n",
    "        if 2 == id :\n",
    "            return self.mul(self.x, self.y)\n",
    "# app\n",
    "if '__main__' == __name__:\n",
    "    calc = MyCalculator(4,5)\n",
    "    print(\"calc(1)= \", calc(1))\n",
    "    print(\"calc(2)= \", calc(2))"
   ]
  },
  {
   "cell_type": "code",
   "execution_count": 27,
   "metadata": {},
   "outputs": [
    {
     "name": "stdout",
     "output_type": "stream",
     "text": [
      "cA.m_fun5555\n"
     ]
    }
   ],
   "source": [
    "\n",
    "class cA:\n",
    "    def m_fun4(self) :\n",
    "        print(\"cA.m_fun4444\")\n",
    "        \n",
    "    def m_fun5(self) :\n",
    "        print(\"cA.m_fun5555\")\n",
    "        \n",
    "    def __call__(self, fid=1):\n",
    "        if 1 == fid: # from python 3.10 use match as switch-case\n",
    "            #return self.m_fun1()\n",
    "            return self.m_fun4()\n",
    "        elif 2 == fid:\n",
    "            #return self.m_fun2()\n",
    "            return self.m_fun5()\n",
    "            \n",
    "# app\n",
    "if '__main__' == __name__:\n",
    "    cA()(2)"
   ]
  },
  {
   "cell_type": "code",
   "execution_count": 30,
   "metadata": {},
   "outputs": [
    {
     "name": "stdout",
     "output_type": "stream",
     "text": [
      " -- add called --\n",
      "calcA(5,6)=  11\n",
      " -- mul called --\n",
      "calcM(8,9)=  72\n"
     ]
    }
   ],
   "source": [
    "\n",
    "class MyCalculator:\n",
    "    def __init__(self, op):\n",
    "        if '+' == op:\n",
    "            self.m_fn = self.add\n",
    "        if '*' == op:\n",
    "            self.m_fn = self.mul\n",
    "        \n",
    "    def add(self, x,y):\n",
    "        print(\" -- add called --\")\n",
    "        return x + y\n",
    "    \n",
    "    def mul(self, x,y):\n",
    "        print(\" -- mul called --\")\n",
    "        return x * y\n",
    "\n",
    "    def __call__(self, x, y):\n",
    "        return self.m_fn(x, y)\n",
    "    \n",
    "# app\n",
    "if '__main__' == __name__:\n",
    "    calcA = MyCalculator('+')\n",
    "    print(\"calcA(5,6)= \", calcA(5,6))\n",
    "    calcM = MyCalculator('*')\n",
    "    print(\"calcM(8,9)= \", calcM(8,9))"
   ]
  },
  {
   "cell_type": "code",
   "execution_count": 32,
   "metadata": {},
   "outputs": [
    {
     "name": "stdout",
     "output_type": "stream",
     "text": [
      " Acquire resources\n"
     ]
    },
    {
     "ename": "TypeError",
     "evalue": "add() missing 1 required positional argument: 'y'",
     "output_type": "error",
     "traceback": [
      "\u001b[1;31m---------------------------------------------------------------------------\u001b[0m",
      "\u001b[1;31mTypeError\u001b[0m                                 Traceback (most recent call last)",
      "\u001b[1;32m<ipython-input-32-4e3e55883268>\u001b[0m in \u001b[0;36m<module>\u001b[1;34m()\u001b[0m\n\u001b[0;32m     22\u001b[0m \u001b[1;33m\u001b[0m\u001b[0m\n\u001b[0;32m     23\u001b[0m     \u001b[0mcalcA\u001b[0m \u001b[1;33m=\u001b[0m \u001b[0mMyCalculator\u001b[0m\u001b[1;33m(\u001b[0m\u001b[0madd\u001b[0m\u001b[1;33m)\u001b[0m\u001b[1;33m\u001b[0m\u001b[0m\n\u001b[1;32m---> 24\u001b[1;33m     \u001b[0mprint\u001b[0m\u001b[1;33m(\u001b[0m\u001b[1;34m\"calcA(5,6)= \"\u001b[0m\u001b[1;33m,\u001b[0m \u001b[0mcalcA\u001b[0m\u001b[1;33m(\u001b[0m\u001b[1;36m5\u001b[0m\u001b[1;33m,\u001b[0m\u001b[1;36m6\u001b[0m\u001b[1;33m)\u001b[0m\u001b[1;33m)\u001b[0m\u001b[1;33m\u001b[0m\u001b[0m\n\u001b[0m\u001b[0;32m     25\u001b[0m     \u001b[0mprint\u001b[0m\u001b[1;33m(\u001b[0m\u001b[1;34m\"------\"\u001b[0m\u001b[1;33m)\u001b[0m\u001b[1;33m\u001b[0m\u001b[0m\n\u001b[0;32m     26\u001b[0m     \u001b[0mcalcM\u001b[0m \u001b[1;33m=\u001b[0m \u001b[0mMyCalculator\u001b[0m\u001b[1;33m(\u001b[0m\u001b[0mmul\u001b[0m\u001b[1;33m)\u001b[0m\u001b[1;33m\u001b[0m\u001b[0m\n",
      "\u001b[1;32m<ipython-input-32-4e3e55883268>\u001b[0m in \u001b[0;36m__call__\u001b[1;34m(self, x, y)\u001b[0m\n\u001b[0;32m      6\u001b[0m     \u001b[1;32mdef\u001b[0m \u001b[0m__call__\u001b[0m\u001b[1;33m(\u001b[0m\u001b[0mself\u001b[0m\u001b[1;33m,\u001b[0m \u001b[0mx\u001b[0m\u001b[1;33m,\u001b[0m \u001b[0my\u001b[0m\u001b[1;33m)\u001b[0m\u001b[1;33m:\u001b[0m\u001b[1;33m\u001b[0m\u001b[0m\n\u001b[0;32m      7\u001b[0m         \u001b[0mprint\u001b[0m\u001b[1;33m(\u001b[0m\u001b[1;34m\" Acquire resources\"\u001b[0m\u001b[1;33m)\u001b[0m\u001b[1;33m\u001b[0m\u001b[0m\n\u001b[1;32m----> 8\u001b[1;33m         \u001b[0mretVal\u001b[0m \u001b[1;33m=\u001b[0m \u001b[0mself\u001b[0m\u001b[1;33m.\u001b[0m\u001b[0mm_fn\u001b[0m\u001b[1;33m(\u001b[0m\u001b[0mx\u001b[0m\u001b[1;33m,\u001b[0m\u001b[0my\u001b[0m\u001b[1;33m)\u001b[0m\u001b[1;33m\u001b[0m\u001b[0m\n\u001b[0m\u001b[0;32m      9\u001b[0m         \u001b[0mprint\u001b[0m\u001b[1;33m(\u001b[0m\u001b[1;34m\" Release Acquired resources\"\u001b[0m\u001b[1;33m)\u001b[0m\u001b[1;33m\u001b[0m\u001b[0m\n\u001b[0;32m     10\u001b[0m         \u001b[0mprint\u001b[0m\u001b[1;33m(\u001b[0m\u001b[1;34m\"= \"\u001b[0m \u001b[1;33m*\u001b[0m \u001b[1;36m10\u001b[0m\u001b[1;33m)\u001b[0m\u001b[1;33m\u001b[0m\u001b[0m\n",
      "\u001b[1;31mTypeError\u001b[0m: add() missing 1 required positional argument: 'y'"
     ]
    }
   ],
   "source": [
    "\n",
    "class MyCalculator:\n",
    "    def __init__(self, fn):\n",
    "        self.m_fn = fn        \n",
    "\n",
    "    def __call__(self, x, y):\n",
    "        print(\" Acquire resources\")\n",
    "        retVal = self.m_fn(x,y)\n",
    "        print(\" Release Acquired resources\")\n",
    "        print(\"= \" * 10)\n",
    "        return retVal    \n",
    "# app\n",
    "if '__main__' == __name__:\n",
    "      \n",
    "    def add(self, x, y):\n",
    "        print(\" -- add called --\")\n",
    "        return x + y\n",
    "    \n",
    "    def mul(self, x, y):\n",
    "        print(\" -- mul called --\")\n",
    "        return x * y\n",
    "    \n",
    "    calcA = MyCalculator(add)\n",
    "    print(\"calcA(5,6)= \", calcA(5,6))\n",
    "    print(\"------\")\n",
    "    calcM = MyCalculator(mul)\n",
    "    print(\"calcM(8,9)= \", calcM(8,9))"
   ]
  },
  {
   "cell_type": "code",
   "execution_count": 34,
   "metadata": {},
   "outputs": [
    {
     "name": "stdout",
     "output_type": "stream",
     "text": [
      " Acquire resources\n",
      " -- add called --\n",
      " Release Acquired resources\n",
      "= = = = = = = = = = \n",
      "calcA(5,6)=  11\n",
      "------\n",
      " Acquire resources\n",
      " -- mul called --\n",
      " Release Acquired resources\n",
      "= = = = = = = = = = \n",
      "calcM(8,9)=  72\n"
     ]
    }
   ],
   "source": [
    "\n",
    "class MyCalculator:\n",
    "    def __init__(self, fn):\n",
    "        self.m_fn = fn        \n",
    "\n",
    "    def __call__(self, x, y):\n",
    "        print(\" Acquire resources\")\n",
    "        retVal = self.m_fn(x,y)\n",
    "        print(\" Release Acquired resources\")\n",
    "        print(\"= \" * 10)\n",
    "        return retVal    \n",
    "# app\n",
    "if '__main__' == __name__:\n",
    "      \n",
    "    def add(x, y):\n",
    "        print(\" -- add called --\")\n",
    "        return x + y\n",
    "    \n",
    "    def mul(x, y):\n",
    "        print(\" -- mul called --\")\n",
    "        return x * y\n",
    "    \n",
    "    calcA = MyCalculator(add)\n",
    "    print(\"calcA(5,6)= \", calcA(5,6))\n",
    "    print(\"------\")\n",
    "    calcM = MyCalculator(mul)\n",
    "    print(\"calcM(8,9)= \", calcM(8,9))"
   ]
  },
  {
   "cell_type": "code",
   "execution_count": 35,
   "metadata": {},
   "outputs": [
    {
     "name": "stdout",
     "output_type": "stream",
     "text": [
      " Acquire resources\n",
      " -- add called --\n",
      " Release Acquired resources\n",
      "= = = = = = = = = = \n",
      "add(5,6)=  11\n",
      "------\n",
      " Acquire resources\n",
      " -- mul called --\n",
      " Release Acquired resources\n",
      "= = = = = = = = = = \n",
      "mul(8,9)=  72\n"
     ]
    }
   ],
   "source": [
    "\n",
    "class MyCalculator:\n",
    "    def __init__(self, fn):\n",
    "        self.m_fn = fn        \n",
    "\n",
    "    def __call__(self, x, y):\n",
    "        print(\" Acquire resources\")\n",
    "        retVal = self.m_fn(x,y)\n",
    "        print(\" Release Acquired resources\")\n",
    "        print(\"= \" * 10)\n",
    "        return retVal    \n",
    "# app\n",
    "if '__main__' == __name__:\n",
    "      \n",
    "    def add(x, y):\n",
    "        print(\" -- add called --\")\n",
    "        return x + y\n",
    "    \n",
    "    def mul(x, y):\n",
    "        print(\" -- mul called --\")\n",
    "        return x * y\n",
    "    \n",
    "    add = MyCalculator(add)\n",
    "    print(\"add(5,6)= \", add(5,6))\n",
    "    print(\"------\")\n",
    "    mul = MyCalculator(mul)\n",
    "    print(\"mul(8,9)= \", mul(8,9))"
   ]
  },
  {
   "cell_type": "code",
   "execution_count": 36,
   "metadata": {},
   "outputs": [
    {
     "name": "stdout",
     "output_type": "stream",
     "text": [
      " Acquire resources\n",
      " -- add called --\n",
      " Release Acquired resources\n",
      "= = = = = = = = = = \n",
      "add(5,6)=  11\n",
      "------\n",
      " Acquire resources\n",
      " -- mul called --\n",
      " Release Acquired resources\n",
      "= = = = = = = = = = \n",
      "mul(8,9)=  72\n"
     ]
    }
   ],
   "source": [
    "\n",
    "class MyCalculator:\n",
    "    def __init__(self, fn):\n",
    "        self.m_fn = fn        \n",
    "\n",
    "    def __call__(self, x, y):\n",
    "        print(\" Acquire resources\")\n",
    "        retVal = self.m_fn(x,y)\n",
    "        print(\" Release Acquired resources\")\n",
    "        print(\"= \" * 10)\n",
    "        return retVal    \n",
    "# app\n",
    "if '__main__' == __name__:\n",
    "      \n",
    "    @MyCalculator\n",
    "    def add(x, y):\n",
    "        print(\" -- add called --\")\n",
    "        return x + y\n",
    "    \n",
    "    @MyCalculator\n",
    "    def mul(x, y):\n",
    "        print(\" -- mul called --\")\n",
    "        return x * y\n",
    "    \n",
    "    print(\"add(5,6)= \", add(5,6))\n",
    "    print(\"------\")\n",
    "    \n",
    "    print(\"mul(8,9)= \", mul(8,9))"
   ]
  },
  {
   "cell_type": "code",
   "execution_count": 37,
   "metadata": {},
   "outputs": [
    {
     "name": "stdout",
     "output_type": "stream",
     "text": [
      "cA.m_fun1111\n"
     ]
    }
   ],
   "source": [
    "\n",
    "class cA:\n",
    "    def m_fun1(self) :\n",
    "        print(\"cA.m_fun1111\")\n",
    "        \n",
    "# app\n",
    "if '__main__' == __name__:\n",
    "    obj = cA()\n",
    "    obj.m_fun1()\n",
    "    \n",
    "    \n",
    "    \n",
    "    "
   ]
  },
  {
   "cell_type": "code",
   "execution_count": 38,
   "metadata": {},
   "outputs": [
    {
     "name": "stdout",
     "output_type": "stream",
     "text": [
      "cA.m_fun1111\n",
      "cA.m_fun2222\n"
     ]
    }
   ],
   "source": [
    "\n",
    "class cA:\n",
    "    def m_fun1(self) :\n",
    "        print(\"cA.m_fun1111\")\n",
    "        \n",
    "    def m_fun2(self) :\n",
    "        print(\"cA.m_fun2222\")\n",
    "        \n",
    "# app\n",
    "if '__main__' == __name__:\n",
    "    obj = cA()\n",
    "    obj.m_fun1()\n",
    "\n",
    "    obj.m_fun2()"
   ]
  },
  {
   "cell_type": "code",
   "execution_count": 41,
   "metadata": {},
   "outputs": [
    {
     "name": "stdout",
     "output_type": "stream",
     "text": [
      "cA.m_fun1111: self.m_i=  10\n",
      "cB.m_fun2222: self.m_j=  20\n"
     ]
    }
   ],
   "source": [
    "\n",
    "class cA:\n",
    "    def __init__(self, x=-1):\n",
    "        self.m_i = x\n",
    "        \n",
    "    def m_fun1(self) :\n",
    "        print(\"cA.m_fun1111: self.m_i= \", self.m_i)\n",
    "\n",
    "class cB:\n",
    "    def __init__(self, y=-2):\n",
    "        self.m_j = y\n",
    "        \n",
    "    def m_fun2(self) :\n",
    "        print(\"cB.m_fun2222: self.m_j= \", self.m_j)\n",
    "        \n",
    "# app\n",
    "if '__main__' == __name__:\n",
    "    aObj = cA(10)\n",
    "    aObj.m_fun1()\n",
    "\n",
    "    bObj = cB(20)\n",
    "    bObj.m_fun2()"
   ]
  },
  {
   "cell_type": "code",
   "execution_count": 42,
   "metadata": {},
   "outputs": [
    {
     "name": "stdout",
     "output_type": "stream",
     "text": [
      "cA.m_fun1111: self.m_i=  10\n",
      "cB.m_fun2222: self.m_j=  6\n",
      "cB.cA.m_fun1111: self.m_i=  5\n"
     ]
    }
   ],
   "source": [
    "\n",
    "class cA:\n",
    "    def __init__(self, x=-1):\n",
    "        self.m_i = x\n",
    "        \n",
    "    def m_fun1(self) :\n",
    "        print(\"cA.m_fun1111: self.m_i= \", self.m_i)\n",
    "\n",
    "class cB:\n",
    "    def __init__(self, x = -1, y=-2):\n",
    "        self.m_i = x\n",
    "        self.m_j = y\n",
    "        \n",
    "    def m_fun1(self) :\n",
    "        print(\"cB.cA.m_fun1111: self.m_i= \", self.m_i)\n",
    "\n",
    "    def m_fun2(self) :\n",
    "        print(\"cB.m_fun2222: self.m_j= \", self.m_j)\n",
    "        \n",
    "# app\n",
    "if '__main__' == __name__:\n",
    "    aObj = cA(10)\n",
    "    aObj.m_fun1()\n",
    "\n",
    "    bObj = cB(5,6)\n",
    "    bObj.m_fun2()\n",
    "    \n",
    "    bObj.m_fun1()\n",
    "    \n",
    "    \n",
    "    "
   ]
  },
  {
   "cell_type": "code",
   "execution_count": 44,
   "metadata": {},
   "outputs": [
    {
     "name": "stdout",
     "output_type": "stream",
     "text": [
      "cB.__init__: self=  <__main__.cB object at 0x03A79530>\n",
      "cA.__init__: self=  <__main__.cA object at 0x03A79690>\n",
      "cB.m_fun2222: self.m_j=  6\n"
     ]
    },
    {
     "ename": "AttributeError",
     "evalue": "'cB' object has no attribute 'm_fun1'",
     "output_type": "error",
     "traceback": [
      "\u001b[1;31m---------------------------------------------------------------------------\u001b[0m",
      "\u001b[1;31mAttributeError\u001b[0m                            Traceback (most recent call last)",
      "\u001b[1;32m<ipython-input-44-9461f6cb5a17>\u001b[0m in \u001b[0;36m<module>\u001b[1;34m()\u001b[0m\n\u001b[0;32m     38\u001b[0m \u001b[1;31m# app\u001b[0m\u001b[1;33m\u001b[0m\u001b[1;33m\u001b[0m\u001b[0m\n\u001b[0;32m     39\u001b[0m \u001b[1;32mif\u001b[0m \u001b[1;34m'__main__'\u001b[0m \u001b[1;33m==\u001b[0m \u001b[0m__name__\u001b[0m\u001b[1;33m:\u001b[0m\u001b[1;33m\u001b[0m\u001b[0m\n\u001b[1;32m---> 40\u001b[1;33m     \u001b[0mtestContainment\u001b[0m\u001b[1;33m(\u001b[0m\u001b[1;33m)\u001b[0m\u001b[1;33m\u001b[0m\u001b[0m\n\u001b[0m\u001b[0;32m     41\u001b[0m \u001b[1;33m\u001b[0m\u001b[0m\n\u001b[0;32m     42\u001b[0m \u001b[1;33m\u001b[0m\u001b[0m\n",
      "\u001b[1;32m<ipython-input-44-9461f6cb5a17>\u001b[0m in \u001b[0;36mtestContainment\u001b[1;34m()\u001b[0m\n\u001b[0;32m     33\u001b[0m     \u001b[0mbObj\u001b[0m \u001b[1;33m=\u001b[0m \u001b[0mcB\u001b[0m\u001b[1;33m(\u001b[0m\u001b[1;36m5\u001b[0m\u001b[1;33m,\u001b[0m\u001b[1;36m6\u001b[0m\u001b[1;33m)\u001b[0m\u001b[1;33m\u001b[0m\u001b[0m\n\u001b[0;32m     34\u001b[0m     \u001b[0mbObj\u001b[0m\u001b[1;33m.\u001b[0m\u001b[0mm_fun2\u001b[0m\u001b[1;33m(\u001b[0m\u001b[1;33m)\u001b[0m\u001b[1;33m\u001b[0m\u001b[0m\n\u001b[1;32m---> 35\u001b[1;33m     \u001b[0mbObj\u001b[0m\u001b[1;33m.\u001b[0m\u001b[0mm_fun1\u001b[0m\u001b[1;33m(\u001b[0m\u001b[1;33m)\u001b[0m\u001b[1;33m\u001b[0m\u001b[0m\n\u001b[0m\u001b[0;32m     36\u001b[0m \u001b[1;33m\u001b[0m\u001b[0m\n\u001b[0;32m     37\u001b[0m     \u001b[1;31m# del(bObj)\u001b[0m\u001b[1;33m\u001b[0m\u001b[1;33m\u001b[0m\u001b[0m\n",
      "\u001b[1;31mAttributeError\u001b[0m: 'cB' object has no attribute 'm_fun1'"
     ]
    }
   ],
   "source": [
    "# Composition - has-a relationship (Ownership)\n",
    "\"\"\"\n",
    "    Containment\n",
    "    Aggregation\n",
    "        - tightly\n",
    "        - loosely\n",
    "\"\"\"\n",
    "\n",
    "\n",
    "class cA:\n",
    "    def __init__(self, x=-1):\n",
    "        print(\"cA.__init__: self= \", self)\n",
    "        self.m_i = x\n",
    "        \n",
    "    def m_fun1(self) :\n",
    "        print(\"cA.m_fun1111: self.m_i= \", self.m_i)\n",
    "\n",
    "    def __del__(self):\n",
    "        print(\"cA.__del__: self = \", self)\n",
    "    \n",
    "class cB:\n",
    "    def __init__(self, x=-1, y=-2):\n",
    "        print(\"cB.__init__: self= \", self)\n",
    "        self.m_j = y\n",
    "        self.m_aObj = cA(x)\n",
    "    \n",
    "    def m_fun2(self) :\n",
    "        print(\"cB.m_fun2222: self.m_j= \", self.m_j)\n",
    "        \n",
    "    def __del__(self):\n",
    "        print(\"cB.__del__: self = \", self)\n",
    "        del(self.m_aObj)\n",
    "    \n",
    "def testContainment():    \n",
    "    bObj = cB(5,6)\n",
    "    bObj.m_fun2()    \n",
    "    bObj.m_fun1()\n",
    "    \n",
    "    # del(bObj)\n",
    "# app\n",
    "if '__main__' == __name__:   \n",
    "    testContainment()\n",
    "    \n",
    "    "
   ]
  },
  {
   "cell_type": "code",
   "execution_count": 47,
   "metadata": {},
   "outputs": [
    {
     "name": "stdout",
     "output_type": "stream",
     "text": [
      "cB.__init__: self=  <__main__.cB object at 0x03A83850>\n",
      "cA.__init__: self=  <__main__.cA object at 0x03A83AD0>\n",
      "= == == == == =\n",
      "cB.m_fun2222: self.m_j=  6\n",
      "cA.m_fun1111: self.m_i=  5\n",
      "= == == == == =\n",
      "cB.__del__: self =  <__main__.cB object at 0x03A83850>\n",
      "cA.__del__: self =  <__main__.cA object at 0x03A83AD0>\n",
      "-- -- -- -- -- \n"
     ]
    }
   ],
   "source": [
    "class cA:\n",
    "    def __init__(self, x=-1):\n",
    "        print(\"cA.__init__: self= \", self)\n",
    "        self.m_i = x\n",
    "        \n",
    "    def m_fun1(self) :\n",
    "        print(\"cA.m_fun1111: self.m_i= \", self.m_i)\n",
    "\n",
    "    def __del__(self):\n",
    "        print(\"cA.__del__: self = \", self)\n",
    "    \n",
    "class cB:\n",
    "    def __init__(self, x=-1, y=-2):\n",
    "        print(\"cB.__init__: self= \", self)\n",
    "        self.m_j = y\n",
    "        self.m_aObj = cA(x)\n",
    "    \n",
    "    def m_fun2(self) :\n",
    "        print(\"cB.m_fun2222: self.m_j= \", self.m_j)\n",
    "        \n",
    "    def __del__(self):\n",
    "        print(\"cB.__del__: self = \", self)\n",
    "        del(self.m_aObj)\n",
    "    \n",
    "def testContainment():    \n",
    "    bObj = cB(5,6)\n",
    "    print(\"= =\"*5)\n",
    "    bObj.m_fun2()    \n",
    "    bObj.m_aObj.m_fun1() # Law of Demeter fails\n",
    "    \n",
    "    print(\"= =\"*5)\n",
    "    \n",
    "    # del(bObj)\n",
    "# app\n",
    "if '__main__' == __name__:   \n",
    "    testContainment()\n",
    "    \n",
    "    print(\"-- \"*5)"
   ]
  },
  {
   "cell_type": "code",
   "execution_count": 49,
   "metadata": {},
   "outputs": [
    {
     "name": "stdout",
     "output_type": "stream",
     "text": [
      "cB.__init__: self=  <__main__.cB object at 0x03A83A10>\n",
      "cA.__init__: self=  <__main__.cA object at 0x03A83430>\n",
      "= == == == == =\n",
      "cB.m_fun2222: self.m_j=  6\n",
      " via cB -> cA.m_fun1111: self.m_i=  5\n",
      "= == == == == =\n",
      "cB.__del__: self =  <__main__.cB object at 0x03A83A10>\n",
      "cA.__del__: self =  <__main__.cA object at 0x03A83430>\n",
      "-- -- -- -- -- \n"
     ]
    }
   ],
   "source": [
    "class cA:\n",
    "    def __init__(self, x=-1):\n",
    "        print(\"cA.__init__: self= \", self)\n",
    "        self.m_i = x\n",
    "        \n",
    "    def m_fun1(self) :\n",
    "        print(\"cA.m_fun1111: self.m_i= \", self.m_i)\n",
    "\n",
    "    def __del__(self):\n",
    "        print(\"cA.__del__: self = \", self)\n",
    "    \n",
    "class cB:\n",
    "    def __init__(self, x=-1, y=-2):\n",
    "        print(\"cB.__init__: self= \", self)\n",
    "        self.m_j = y\n",
    "        self.m_aObj = cA(x)\n",
    "    \n",
    "    def m_fun2(self) :\n",
    "        print(\"cB.m_fun2222: self.m_j= \", self.m_j)\n",
    "        \n",
    "    def m_afun1(self):\n",
    "        print(\" via cB -> \", end=\"\")\n",
    "        return self.m_aObj.m_fun1()\n",
    "    \n",
    "    def __del__(self):\n",
    "        print(\"cB.__del__: self = \", self)\n",
    "        del(self.m_aObj)\n",
    "    \n",
    "def testContainment():    \n",
    "    bObj = cB(5,6)\n",
    "    print(\"= =\"*5)\n",
    "    bObj.m_fun2()    \n",
    "    bObj.m_afun1() # Law of Demeter is fine\n",
    "    \n",
    "    print(\"= =\"*5)\n",
    "    \n",
    "    # del(bObj)\n",
    "# app\n",
    "if '__main__' == __name__:   \n",
    "    testContainment()\n",
    "    \n",
    "    print(\"-- \"*5)"
   ]
  },
  {
   "cell_type": "code",
   "execution_count": 53,
   "metadata": {},
   "outputs": [
    {
     "name": "stdout",
     "output_type": "stream",
     "text": [
      "cB.__init__: self=  <__main__.cC object at 0x03A859F0>\n",
      "= == == == == =\n",
      " Acquiring cA object\n",
      "cA.__init__: self=  <__main__.cA object at 0x03A6A770>\n",
      "= == == == == =\n",
      "cC.m_fun2222: self.m_j=  6\n",
      " via cC -> cA.m_fun1111: self.m_i=  5\n",
      "= == == == == =\n",
      "cC.__del__: self =  <__main__.cC object at 0x03A859F0>\n",
      "cA.__del__: self =  <__main__.cA object at 0x03A6A770>\n",
      "-- -- -- -- -- \n"
     ]
    }
   ],
   "source": [
    "class cA:\n",
    "    def __init__(self, x=-1):\n",
    "        print(\"cA.__init__: self= \", self)\n",
    "        self.m_i = x\n",
    "        \n",
    "    def m_fun1(self) :\n",
    "        print(\"cA.m_fun1111: self.m_i= \", self.m_i)\n",
    "\n",
    "    def __del__(self):\n",
    "        print(\"cA.__del__: self = \", self)\n",
    "    \n",
    "class cC:\n",
    "    def __init__(self, y=-2):\n",
    "        print(\"cB.__init__: self= \", self)\n",
    "        self.m_j = y\n",
    "    \n",
    "    def acquire_cA(self, x=-1):\n",
    "        print(\" Acquiring cA object\")\n",
    "        self.m_aObj = cA(x)\n",
    "        \n",
    "    def m_fun2(self) :\n",
    "        print(\"cC.m_fun2222: self.m_j= \", self.m_j)\n",
    "        \n",
    "    def m_afun1(self):\n",
    "        print(\" via cC -> \", end=\"\")\n",
    "        return self.m_aObj.m_fun1()\n",
    "    \n",
    "    def __del__(self):\n",
    "        print(\"cC.__del__: self = \", self)\n",
    "        if self.m_aObj :\n",
    "            del(self.m_aObj)\n",
    "    \n",
    "def testAggregationTightly():    \n",
    "    cObj = cC(6)\n",
    "    print(\"= =\"*5)\n",
    "    cObj.acquire_cA(5)\n",
    "    print(\"= =\"*5)\n",
    "    \n",
    "    cObj.m_fun2()    \n",
    "    cObj.m_afun1() # Law of Demeter is fine\n",
    "    \n",
    "    print(\"= =\"*5)\n",
    "    \n",
    "    # del(bObj)\n",
    "# app\n",
    "if '__main__' == __name__:   \n",
    "    testAggregationTightly()\n",
    "    \n",
    "    print(\"-- \"*5)"
   ]
  },
  {
   "cell_type": "code",
   "execution_count": null,
   "metadata": {},
   "outputs": [],
   "source": [
    "# Association - uses relationship"
   ]
  },
  {
   "cell_type": "markdown",
   "metadata": {},
   "source": [
    "# Inheritance"
   ]
  },
  {
   "cell_type": "code",
   "execution_count": 54,
   "metadata": {},
   "outputs": [
    {
     "name": "stdout",
     "output_type": "stream",
     "text": [
      "Derived.__init__: self=  <__main__.Derived object at 0x03A793F0>\n",
      "Base.__init__: self=  <__main__.Derived object at 0x03A793F0>\n",
      "= == == == == =\n",
      "Base.m_fun1111: self.m_i=  10\n",
      "Derived.m_fun2222: self.m_j=  20\n",
      "= == == == == =\n",
      "Derived.__del__: self =  <__main__.Derived object at 0x03A793F0>\n",
      "Base.__del__: self =  <__main__.Derived object at 0x03A793F0>\n",
      "-- -- -- -- -- \n"
     ]
    }
   ],
   "source": [
    "# Is-a relationship\n",
    "\n",
    "class Base:\n",
    "    def __init__(self, x=-1):\n",
    "        print(\"Base.__init__: self= \", self)\n",
    "        self.m_i = x\n",
    "        \n",
    "    def m_fun1(self) :\n",
    "        print(\"Base.m_fun1111: self.m_i= \", self.m_i)\n",
    "\n",
    "    def __del__(self):\n",
    "        print(\"Base.__del__: self = \", self)\n",
    "    \n",
    "class Derived(Base):\n",
    "    def __init__(self, x=-1, y=-2):\n",
    "        print(\"Derived.__init__: self= \", self)\n",
    "        self.m_j = y\n",
    "        Base.__init__(self, x)\n",
    "    \n",
    "    def m_fun2(self) :\n",
    "        print(\"Derived.m_fun2222: self.m_j= \", self.m_j)\n",
    "        \n",
    "    def __del__(self):\n",
    "        print(\"Derived.__del__: self = \", self)\n",
    "        Base.__del__(self)\n",
    "    \n",
    "def testBasicInheritance():    \n",
    "    \n",
    "    dObj = Derived(10, 20)\n",
    "    print(\"= =\"*5)\n",
    "    dObj.m_fun1()\n",
    "    dObj.m_fun2()\n",
    "    print(\"= =\"*5)\n",
    "    \n",
    "    # del(bObj)\n",
    "# app\n",
    "if '__main__' == __name__:   \n",
    "    testBasicInheritance()\n",
    "    \n",
    "    print(\"-- \"*5)"
   ]
  },
  {
   "cell_type": "code",
   "execution_count": null,
   "metadata": {},
   "outputs": [],
   "source": []
  }
 ],
 "metadata": {
  "kernelspec": {
   "display_name": "Python 3",
   "language": "python",
   "name": "python3"
  },
  "language_info": {
   "codemirror_mode": {
    "name": "ipython",
    "version": 3
   },
   "file_extension": ".py",
   "mimetype": "text/x-python",
   "name": "python",
   "nbconvert_exporter": "python",
   "pygments_lexer": "ipython3",
   "version": "3.6.4"
  }
 },
 "nbformat": 4,
 "nbformat_minor": 2
}

{
 "cells": [
  {
   "cell_type": "markdown",
   "metadata": {},
   "source": [
    "# OOPS\n",
    "'''\n",
    "Object Oriented Programming System\n",
    " - Abstraction\n",
    " - Encapsulation\n",
    " - Message Passing\n",
    " - Polymorphism\n",
    "     - Static\n",
    "     - Dynamic\n",
    " - Reusability :-\n",
    "     - Inheritance\n",
    "     - Realization\n",
    "     - Generalization\n",
    "     - Composition\n",
    "         - Containment\n",
    "         - Aggregation\n",
    "             - tightly\n",
    "             - loosly\n",
    "    - Association\n",
    "'''"
   ]
  },
  {
   "cell_type": "markdown",
   "metadata": {},
   "source": [
    "# Encapsulation :- { Data + function } => Type/Entity #    class\n",
    "\n",
    " Data => Data-members, attributes, properties, state, weight/value\n",
    " \n",
    " functions => member-functions, methods, Actions, Behaviours, operations\n",
    " \n",
    " Data-hiding is a core-concept of Encapsulation\n"
   ]
  },
  {
   "cell_type": "code",
   "execution_count": 1,
   "metadata": {},
   "outputs": [
    {
     "name": "stdout",
     "output_type": "stream",
     "text": [
      "cA =  <class '__main__.cA'>\n",
      "type(cA) =  <class 'type'>\n"
     ]
    }
   ],
   "source": [
    "class cA:\n",
    "    pass\n",
    "\n",
    "if '__main__' == __name__:\n",
    "    print(\"cA = \", cA)\n",
    "    print(\"type(cA) = \", type(cA) )"
   ]
  },
  {
   "cell_type": "code",
   "execution_count": 3,
   "metadata": {},
   "outputs": [
    {
     "name": "stdout",
     "output_type": "stream",
     "text": [
      "type(int)=  <class 'type'>\n"
     ]
    }
   ],
   "source": [
    "print(\"type(int)= \", type(int))"
   ]
  },
  {
   "cell_type": "code",
   "execution_count": 4,
   "metadata": {},
   "outputs": [
    {
     "name": "stdout",
     "output_type": "stream",
     "text": [
      "dir(cA) =  ['__class__', '__delattr__', '__dict__', '__dir__', '__doc__', '__eq__', '__format__', '__ge__', '__getattribute__', '__gt__', '__hash__', '__init__', '__init_subclass__', '__le__', '__lt__', '__module__', '__ne__', '__new__', '__reduce__', '__reduce_ex__', '__repr__', '__setattr__', '__sizeof__', '__str__', '__subclasshook__', '__weakref__']\n"
     ]
    }
   ],
   "source": [
    "\n",
    "if '__main__' == __name__:\n",
    "    print(\"dir(cA) = \", dir(cA))"
   ]
  },
  {
   "cell_type": "code",
   "execution_count": 5,
   "metadata": {},
   "outputs": [
    {
     "name": "stdout",
     "output_type": "stream",
     "text": [
      "obj1 =  <__main__.cA object at 0x04875850>\n",
      "obj2 =  <__main__.cA object at 0x04875870>\n",
      "id(obj1) =  75978832\n",
      "id(obj2) =  75978864\n"
     ]
    }
   ],
   "source": [
    "\n",
    "\n",
    "if '__main__' == __name__:\n",
    "    obj1 = cA()\n",
    "    obj2 = cA()\n",
    "    print(\"obj1 = \", obj1)\n",
    "    print(\"obj2 = \", obj2)\n",
    "    \n",
    "    print(\"id(obj1) = \", id(obj1))\n",
    "    print(\"id(obj2) = \", id(obj2))\n",
    "    "
   ]
  },
  {
   "cell_type": "code",
   "execution_count": 6,
   "metadata": {},
   "outputs": [
    {
     "name": "stdout",
     "output_type": "stream",
     "text": [
      " This stmt will be in global \n"
     ]
    }
   ],
   "source": [
    "print(\" This stmt will be in global \")\n",
    "# Scope :- LEGB Rules\n"
   ]
  },
  {
   "cell_type": "code",
   "execution_count": 7,
   "metadata": {},
   "outputs": [
    {
     "name": "stdout",
     "output_type": "stream",
     "text": [
      "obj1 =  <__main__.cA object at 0x04875830>\n",
      "obj2 =  <__main__.cA object at 0x04875850>\n",
      "id(obj1) =  75978800\n",
      "id(obj2) =  75978832\n",
      "hex(id(obj1)) =  0x4875830\n",
      "hex(id(obj2)) =  0x4875850\n"
     ]
    }
   ],
   "source": [
    "\n",
    "if '__main__' == __name__:\n",
    "    obj1 = cA()\n",
    "    obj2 = cA()\n",
    "    print(\"obj1 = \", obj1)\n",
    "    print(\"obj2 = \", obj2)\n",
    "    \n",
    "    print(\"id(obj1) = \", id(obj1))\n",
    "    print(\"id(obj2) = \", id(obj2))\n",
    "    \n",
    "    \n",
    "    print(\"hex(id(obj1)) = \", hex(id(obj1)))\n",
    "    print(\"hex(id(obj2)) = \", hex(id(obj2)))\n",
    "    "
   ]
  },
  {
   "cell_type": "code",
   "execution_count": 8,
   "metadata": {},
   "outputs": [
    {
     "name": "stdout",
     "output_type": "stream",
     "text": [
      "intVar= 0, type(intVar)= <class 'int'>\n"
     ]
    }
   ],
   "source": [
    "\n",
    "if '__main__' == __name__:\n",
    "    intVar = int()\n",
    "    print(f\"intVar= {intVar}, type(intVar)= {type(intVar)}\")"
   ]
  },
  {
   "cell_type": "code",
   "execution_count": 11,
   "metadata": {},
   "outputs": [
    {
     "name": "stdout",
     "output_type": "stream",
     "text": [
      "dir(cA) =  ['__class__', '__delattr__', '__dict__', '__dir__', '__doc__', '__eq__', '__format__', '__ge__', '__getattribute__', '__gt__', '__hash__', '__init__', '__init_subclass__', '__le__', '__lt__', '__module__', '__ne__', '__new__', '__reduce__', '__reduce_ex__', '__repr__', '__setattr__', '__sizeof__', '__str__', '__subclasshook__', '__weakref__', 'm_i']\n",
      "cA.m_i= 10, id(cA.m_i)= 502212944\n"
     ]
    }
   ],
   "source": [
    "\n",
    "class cA:\n",
    "    m_i = 10\n",
    "\n",
    "if '__main__' == __name__:\n",
    "    print(\"dir(cA) = \", dir(cA))\n",
    "    print(f\"cA.m_i= {cA.m_i}, id(cA.m_i)= {id(cA.m_i)}\" )"
   ]
  },
  {
   "cell_type": "code",
   "execution_count": 12,
   "metadata": {},
   "outputs": [
    {
     "name": "stdout",
     "output_type": "stream",
     "text": [
      "id(obj1) =  78133232\n",
      "id(obj2) =  75978800\n",
      "cA.m_i= 10, id(cA.m_i)= 502212944\n",
      "obj1.m_i= 10, id(obj1.m_i)= 502212944\n",
      "obj2.m_i= 10, id(obj2.m_i)= 502212944\n"
     ]
    }
   ],
   "source": [
    "\n",
    "class cA:\n",
    "    m_i = 10\n",
    "\n",
    "if '__main__' == __name__:\n",
    "    obj1 = cA()\n",
    "    obj2 = cA()\n",
    "    \n",
    "    print(\"id(obj1) = \", id(obj1))\n",
    "    print(\"id(obj2) = \", id(obj2))\n",
    "    \n",
    "    print(f\"cA.m_i= {cA.m_i}, id(cA.m_i)= {id(cA.m_i)}\" )\n",
    "    print(f\"obj1.m_i= {obj1.m_i}, id(obj1.m_i)= {id(obj1.m_i)}\" )\n",
    "    print(f\"obj2.m_i= {obj2.m_i}, id(obj2.m_i)= {id(obj2.m_i)}\" )"
   ]
  },
  {
   "cell_type": "code",
   "execution_count": 13,
   "metadata": {},
   "outputs": [
    {
     "name": "stdout",
     "output_type": "stream",
     "text": [
      "cA.m_i= 10, id(cA.m_i)= 502212944\n",
      "obj1.m_i= 10, id(obj1.m_i)= 502212944\n",
      "obj2.m_i= 10, id(obj2.m_i)= 502212944\n",
      "---------------\n",
      "cA.m_i= 20, id(cA.m_i)= 502213104\n",
      "obj1.m_i= 20, id(obj1.m_i)= 502213104\n",
      "obj2.m_i= 20, id(obj2.m_i)= 502213104\n",
      "---------------\n"
     ]
    }
   ],
   "source": [
    "\n",
    "if '__main__' == __name__:\n",
    "    obj1 = cA()\n",
    "    obj2 = cA()\n",
    "    \n",
    "    print(f\"cA.m_i= {cA.m_i}, id(cA.m_i)= {id(cA.m_i)}\" )\n",
    "    print(f\"obj1.m_i= {obj1.m_i}, id(obj1.m_i)= {id(obj1.m_i)}\" )\n",
    "    print(f\"obj2.m_i= {obj2.m_i}, id(obj2.m_i)= {id(obj2.m_i)}\" )\n",
    "    print(\"-\" * 15)\n",
    "    cA.m_i = 20\n",
    "    print(f\"cA.m_i= {cA.m_i}, id(cA.m_i)= {id(cA.m_i)}\" )\n",
    "    print(f\"obj1.m_i= {obj1.m_i}, id(obj1.m_i)= {id(obj1.m_i)}\" )\n",
    "    print(f\"obj2.m_i= {obj2.m_i}, id(obj2.m_i)= {id(obj2.m_i)}\" )\n",
    "    print(\"-\" * 15)"
   ]
  },
  {
   "cell_type": "code",
   "execution_count": 16,
   "metadata": {},
   "outputs": [
    {
     "name": "stdout",
     "output_type": "stream",
     "text": [
      "cA.m_i= 10, id(cA.m_i)= 502212944\n",
      "obj1.m_i= 10, id(obj1.m_i)= 502212944\n",
      "obj2.m_i= 10, id(obj2.m_i)= 502212944\n",
      "---------------\n",
      "cA.m_i= 10, id(cA.m_i)= 502212944\n",
      "obj1.m_i= 10, id(obj1.m_i)= 502212944\n",
      "obj2.m_i= 20, id(obj2.m_i)= 502213104\n"
     ]
    }
   ],
   "source": [
    "\n",
    "\n",
    "class cA:\n",
    "    m_i = 10\n",
    "\n",
    "if '__main__' == __name__:\n",
    "    \n",
    "    obj1 = cA()\n",
    "    obj2 = cA()\n",
    "    \n",
    "    print(f\"cA.m_i= {cA.m_i}, id(cA.m_i)= {id(cA.m_i)}\" )\n",
    "    print(f\"obj1.m_i= {obj1.m_i}, id(obj1.m_i)= {id(obj1.m_i)}\" )\n",
    "    print(f\"obj2.m_i= {obj2.m_i}, id(obj2.m_i)= {id(obj2.m_i)}\" )\n",
    "    print(\"-\" * 15)\n",
    "    obj2.m_i = 20\n",
    "    print(f\"cA.m_i= {cA.m_i}, id(cA.m_i)= {id(cA.m_i)}\" )\n",
    "    print(f\"obj1.m_i= {obj1.m_i}, id(obj1.m_i)= {id(obj1.m_i)}\" )\n",
    "    print(f\"obj2.m_i= {obj2.m_i}, id(obj2.m_i)= {id(obj2.m_i)}\" )"
   ]
  },
  {
   "cell_type": "code",
   "execution_count": 17,
   "metadata": {},
   "outputs": [
    {
     "name": "stdout",
     "output_type": "stream",
     "text": [
      "cA.m_i= 10, id(cA.m_i)= 502212944\n",
      "obj1.m_i= 10, id(obj1.m_i)= 502212944\n",
      "obj2.m_i= 10, id(obj2.m_i)= 502212944\n",
      "---------------\n",
      "cA.m_i= 10, id(cA.m_i)= 502212944\n",
      "obj1.m_i= 10, id(obj1.m_i)= 502212944\n",
      "obj2.m_i= 20, id(obj2.m_i)= 502213104\n",
      "---------------\n",
      "cA.m_i= 50, id(cA.m_i)= 502213584\n",
      "obj1.m_i= 50, id(obj1.m_i)= 502213584\n",
      "obj2.m_i= 20, id(obj2.m_i)= 502213104\n"
     ]
    }
   ],
   "source": [
    "\n",
    "class cA:\n",
    "    m_i = 10\n",
    "\n",
    "if '__main__' == __name__:\n",
    "    \n",
    "    obj1 = cA()\n",
    "    obj2 = cA()\n",
    "    \n",
    "    print(f\"cA.m_i= {cA.m_i}, id(cA.m_i)= {id(cA.m_i)}\" )\n",
    "    print(f\"obj1.m_i= {obj1.m_i}, id(obj1.m_i)= {id(obj1.m_i)}\" )\n",
    "    print(f\"obj2.m_i= {obj2.m_i}, id(obj2.m_i)= {id(obj2.m_i)}\" )\n",
    "    print(\"-\" * 15)\n",
    "    obj2.m_i = 20\n",
    "    print(f\"cA.m_i= {cA.m_i}, id(cA.m_i)= {id(cA.m_i)}\" )\n",
    "    print(f\"obj1.m_i= {obj1.m_i}, id(obj1.m_i)= {id(obj1.m_i)}\" )\n",
    "    print(f\"obj2.m_i= {obj2.m_i}, id(obj2.m_i)= {id(obj2.m_i)}\" )\n",
    "    \n",
    "    print(\"-\" * 15)\n",
    "    cA.m_i = 50\n",
    "    print(f\"cA.m_i= {cA.m_i}, id(cA.m_i)= {id(cA.m_i)}\" )\n",
    "    print(f\"obj1.m_i= {obj1.m_i}, id(obj1.m_i)= {id(obj1.m_i)}\" )\n",
    "    print(f\"obj2.m_i= {obj2.m_i}, id(obj2.m_i)= {id(obj2.m_i)}\" )"
   ]
  },
  {
   "cell_type": "code",
   "execution_count": 18,
   "metadata": {},
   "outputs": [
    {
     "name": "stdout",
     "output_type": "stream",
     "text": [
      "False\n",
      "False\n",
      "False\n"
     ]
    }
   ],
   "source": [
    "\n",
    "class cA:\n",
    "    pass\n",
    "\n",
    "if '__main__' == __name__:    \n",
    "    obj1 = cA()\n",
    "    obj2 = cA()\n",
    "    \n",
    "    print('m_i' in dir(cA))\n",
    "    print('m_i' in dir(obj1))\n",
    "    print('m_i' in dir(obj2))"
   ]
  },
  {
   "cell_type": "code",
   "execution_count": 19,
   "metadata": {},
   "outputs": [
    {
     "name": "stdout",
     "output_type": "stream",
     "text": [
      "False\n",
      "False\n",
      "False\n",
      "-----\n",
      "True\n",
      "True\n",
      "True\n"
     ]
    }
   ],
   "source": [
    "\n",
    "class cA:\n",
    "    pass\n",
    "\n",
    "if '__main__' == __name__:    \n",
    "    obj1 = cA()\n",
    "    obj2 = cA()\n",
    "    \n",
    "    print('m_i' in dir(cA))\n",
    "    print('m_i' in dir(obj1))\n",
    "    print('m_i' in dir(obj2))\n",
    "    \n",
    "    print(\"-----\")\n",
    "    cA.m_i = 10 # Duck-typing\n",
    "    \n",
    "    print('m_i' in dir(cA))\n",
    "    print('m_i' in dir(obj1))\n",
    "    print('m_i' in dir(obj2))\n",
    "    \n",
    "    "
   ]
  },
  {
   "cell_type": "code",
   "execution_count": 22,
   "metadata": {},
   "outputs": [
    {
     "name": "stdout",
     "output_type": "stream",
     "text": [
      "False\n",
      "True\n",
      "True\n",
      "obj1.m_i=10, id(obj1.m_i)= 502212944\n",
      "obj2.m_i=20, id(obj2.m_i)= 502213104\n"
     ]
    }
   ],
   "source": [
    "\n",
    "if '__main__' == __name__:    \n",
    "    class cA:\n",
    "        def __init__(self, value):\n",
    "            self.m_i = value\n",
    "    \n",
    "    obj1 = cA(10)\n",
    "    \"\"\"\n",
    "               temp = cA.__new__(sizeof(cA))\n",
    "               cA.__init__(temp, 10)\n",
    "               obj1 = temp\n",
    "               del(temp)\n",
    "    \"\"\"\n",
    "    obj2 = cA(20)\n",
    "    \"\"\"\n",
    "               temp = cA.__new__(sizeof(cA))\n",
    "               cA.__init__(temp, 20)\n",
    "               obj2 = temp\n",
    "               del(temp)\n",
    "    \"\"\"\n",
    "    print('m_i' in dir(cA))\n",
    "    print('m_i' in dir(obj1))\n",
    "    print('m_i' in dir(obj2))\n",
    "    \n",
    "    print(f\"obj1.m_i={obj1.m_i}, id(obj1.m_i)= {id(obj1.m_i)}\")\n",
    "    print(f\"obj2.m_i={obj2.m_i}, id(obj2.m_i)= {id(obj2.m_i)}\")"
   ]
  },
  {
   "cell_type": "code",
   "execution_count": 25,
   "metadata": {},
   "outputs": [
    {
     "name": "stdout",
     "output_type": "stream",
     "text": [
      "cA.__init__: self=  <__main__.cA object at 0x04B02410> .m_name=  file1.txt\n",
      "cA.__init__: self=  <__main__.cA object at 0x04B025F0> .m_name=  file2.txt\n",
      "id(obj1)=  0x4b02410\n",
      "id(obj2)=  0x4b025f0\n",
      "---------\n"
     ]
    }
   ],
   "source": [
    "# Lib\n",
    "class cA:\n",
    "    def __init__(self, name):\n",
    "        self.m_name = name\n",
    "        # self.m_fHandle = open(name, \"w\")\n",
    "        print(\"cA.__init__: self= \", self, \".m_name= \", self.m_name)\n",
    "            \n",
    "# Global \n",
    "def gfun1():\n",
    "    \n",
    "    obj1 = cA(\"file1.txt\")\n",
    "    obj2 = cA(\"file2.txt\")\n",
    "    print(\"id(obj1)= \", hex(id(obj1)))\n",
    "    print(\"id(obj2)= \", hex(id(obj2)))\n",
    "    print(\"---------\")\n",
    "    #del(obj1)\n",
    "    #del(obj2)\n",
    "    #return None or\n",
    "    # if gfun1 has yield keyword then\n",
    "    # raise StopIteration() \n",
    "    \n",
    "if '__main__' == __name__:    \n",
    "    gfun1()\n",
    "    "
   ]
  },
  {
   "cell_type": "code",
   "execution_count": 28,
   "metadata": {},
   "outputs": [
    {
     "name": "stdout",
     "output_type": "stream",
     "text": [
      "cA.__init__: self=  <__main__.cA object at 0x04A83370> .m_name=  file1.txt\n",
      "cA.__init__: self=  <__main__.cA object at 0x04B02630> .m_name=  file2.txt\n",
      "id(obj1)=  0x4a83370\n",
      "id(obj2)=  0x4b02630\n",
      "---------\n",
      "cA.__del__: self=  <__main__.cA object at 0x04A83370> .m_name=  file1.txt\n",
      "---------\n",
      "cA.__del__: self=  <__main__.cA object at 0x04A83370> .m_name=  file1.txt\n",
      "cA.__del__: self=  <__main__.cA object at 0x04B02630> .m_name=  file2.txt\n",
      "--- End of main ---\n"
     ]
    }
   ],
   "source": [
    "# Lib\n",
    "class cA:\n",
    "    def __init__(self, name):\n",
    "        self.m_name = name\n",
    "        # self.m_fHandle = open(name, \"w\")\n",
    "        print(\"cA.__init__: self= \", self, \".m_name= \", self.m_name)\n",
    "    \n",
    "    def __del__(self):\n",
    "        print(\"cA.__del__: self= \", self, \".m_name= \", self.m_name)\n",
    "        # self.m_fHandle.close()\n",
    "            \n",
    "# Global \n",
    "def gfun1():\n",
    "    \n",
    "    obj1 = cA(\"file1.txt\")\n",
    "    obj2 = cA(\"file2.txt\")\n",
    "    print(\"id(obj1)= \", hex(id(obj1)))\n",
    "    print(\"id(obj2)= \", hex(id(obj2)))\n",
    "    print(\"---------\")\n",
    "    #del(obj1)\n",
    "    cA.__del__(obj1)\n",
    "    print(\"---------\")\n",
    "    \n",
    "    #del(obj2)\n",
    "    #return None or\n",
    "    # if gfun1 has yield keyword then\n",
    "    # raise StopIteration() \n",
    "    \n",
    "if '__main__' == __name__:    \n",
    "    gfun1()\n",
    "    print(\"--- End of main ---\")"
   ]
  },
  {
   "cell_type": "code",
   "execution_count": 30,
   "metadata": {},
   "outputs": [
    {
     "name": "stdout",
     "output_type": "stream",
     "text": [
      "cA.__init__: self=  <__main__.cA object at 0x04AFDE10> .m_name=  file1.txt\n",
      "cA.__init__: self=  <__main__.cA object at 0x04AFDED0> .m_name=  file2.txt\n",
      "id(obj1)=  0x4afde10\n",
      "id(obj2)=  0x4afded0\n",
      "---------\n",
      "cA.m_fun1: self=  <__main__.cA object at 0x04AFDE10> .m_name=  file1.txt\n",
      "---------\n",
      "cA.__del__: self=  <__main__.cA object at 0x04AFDE10> .m_name=  file1.txt\n",
      "---------\n",
      "cA.__del__: self=  <__main__.cA object at 0x04AFDED0> .m_name=  file2.txt\n",
      "--- End of main ---\n"
     ]
    }
   ],
   "source": [
    "# Lib\n",
    "class cA:\n",
    "    def __init__(self, name):\n",
    "        self.m_name = name\n",
    "        # self.m_fHandle = open(name, \"w\")\n",
    "        print(\"cA.__init__: self= \", self, \".m_name= \", self.m_name)\n",
    "    \n",
    "    def m_fun1(self):\n",
    "        print(\"cA.m_fun1: self= \", self, \".m_name= \", self.m_name)\n",
    "        \n",
    "    def __del__(self):\n",
    "        print(\"cA.__del__: self= \", self, \".m_name= \", self.m_name)\n",
    "        # self.m_fHandle.close()\n",
    "            \n",
    "# Global \n",
    "def gfun1():\n",
    "    \n",
    "    obj1 = cA(\"file1.txt\")\n",
    "    obj2 = cA(\"file2.txt\")\n",
    "    print(\"id(obj1)= \", hex(id(obj1)))\n",
    "    print(\"id(obj2)= \", hex(id(obj2)))\n",
    "    print(\"---------\")\n",
    "    obj1.m_fun1()\n",
    "    print(\"---------\")\n",
    "    del(obj1)\n",
    "    #cA.__del__(obj1)\n",
    "    print(\"---------\")\n",
    "    \n",
    "    #del(obj2)\n",
    "    #return None or\n",
    "    # if gfun1 has yield keyword then\n",
    "    # raise StopIteration() \n",
    "    \n",
    "if '__main__' == __name__:    \n",
    "    gfun1()\n",
    "    print(\"--- End of main ---\")"
   ]
  },
  {
   "cell_type": "code",
   "execution_count": 36,
   "metadata": {},
   "outputs": [
    {
     "name": "stdout",
     "output_type": "stream",
     "text": [
      "-----------------\n"
     ]
    },
    {
     "ename": "TypeError",
     "evalue": "unsupported operand type(s) for +: 'Complex' and 'Complex'",
     "output_type": "error",
     "traceback": [
      "\u001b[1;31m---------------------------------------------------------------------------\u001b[0m",
      "\u001b[1;31mTypeError\u001b[0m                                 Traceback (most recent call last)",
      "\u001b[1;32m<ipython-input-36-f87d673e82b0>\u001b[0m in \u001b[0;36m<module>\u001b[1;34m()\u001b[0m\n\u001b[0;32m     19\u001b[0m \u001b[1;33m\u001b[0m\u001b[0m\n\u001b[0;32m     20\u001b[0m \u001b[1;32mif\u001b[0m \u001b[1;34m'__main__'\u001b[0m \u001b[1;33m==\u001b[0m \u001b[0m__name__\u001b[0m\u001b[1;33m:\u001b[0m\u001b[1;33m\u001b[0m\u001b[0m\n\u001b[1;32m---> 21\u001b[1;33m     \u001b[0mgfun2\u001b[0m\u001b[1;33m(\u001b[0m\u001b[1;33m)\u001b[0m\u001b[1;33m\u001b[0m\u001b[0m\n\u001b[0m\u001b[0;32m     22\u001b[0m \u001b[1;33m\u001b[0m\u001b[0m\n\u001b[0;32m     23\u001b[0m \u001b[1;33m\u001b[0m\u001b[0m\n",
      "\u001b[1;32m<ipython-input-36-f87d673e82b0>\u001b[0m in \u001b[0;36mgfun2\u001b[1;34m()\u001b[0m\n\u001b[0;32m     15\u001b[0m \u001b[1;33m\u001b[0m\u001b[0m\n\u001b[0;32m     16\u001b[0m     \u001b[0mprint\u001b[0m\u001b[1;33m(\u001b[0m\u001b[1;34m\"-----------------\"\u001b[0m\u001b[1;33m)\u001b[0m\u001b[1;33m\u001b[0m\u001b[0m\n\u001b[1;32m---> 17\u001b[1;33m     \u001b[0mobj1\u001b[0m \u001b[1;33m+\u001b[0m \u001b[0mobj2\u001b[0m\u001b[1;33m\u001b[0m\u001b[0m\n\u001b[0m\u001b[0;32m     18\u001b[0m     \u001b[0mprint\u001b[0m\u001b[1;33m(\u001b[0m\u001b[1;34m\"-----------------\"\u001b[0m\u001b[1;33m)\u001b[0m\u001b[1;33m\u001b[0m\u001b[0m\n\u001b[0;32m     19\u001b[0m \u001b[1;33m\u001b[0m\u001b[0m\n",
      "\u001b[1;31mTypeError\u001b[0m: unsupported operand type(s) for +: 'Complex' and 'Complex'"
     ]
    }
   ],
   "source": [
    "# Static Polymorphism\n",
    "\n",
    "def gfun2():\n",
    "    class Complex:\n",
    "        def __init__(self, r=0, i=0):\n",
    "            self.real = r\n",
    "            self.imag = i\n",
    "\n",
    "        def __del__(self):\n",
    "            print(f\"{self}.real= {self.real}, .imag= {self.imag}\")\n",
    "            \n",
    "    obj1 = Complex(10, 20)\n",
    "    obj2 = Complex(40, 50)\n",
    "    \n",
    "    \n",
    "    print(\"-----------------\")\n",
    "    obj1 + obj2\n",
    "    print(\"-----------------\")\n",
    "    \n",
    "if '__main__' == __name__:   \n",
    "    gfun2()\n",
    "    \n",
    "    "
   ]
  },
  {
   "cell_type": "code",
   "execution_count": 37,
   "metadata": {},
   "outputs": [
    {
     "name": "stdout",
     "output_type": "stream",
     "text": [
      "-----------------\n",
      "lhs=<__main__.gfun2.<locals>.Complex object at 0x04AFD110>, rhs=<__main__.gfun2.<locals>.Complex object at 0x04AFD990>\n",
      "-----------------\n",
      "<__main__.gfun2.<locals>.Complex object at 0x04AFD110>.real= 10, .imag= 20\n",
      "<__main__.gfun2.<locals>.Complex object at 0x04AFD990>.real= 40, .imag= 50\n"
     ]
    }
   ],
   "source": [
    "\n",
    "def gfun2():\n",
    "    class Complex:\n",
    "        def __init__(self, r=0, i=0):\n",
    "            self.real = r\n",
    "            self.imag = i\n",
    "\n",
    "        def __add__(self, rhs):\n",
    "            print(f\"lhs={self}, rhs={rhs}\")\n",
    "            \n",
    "        def __del__(self):\n",
    "            print(f\"{self}.real= {self.real}, .imag= {self.imag}\")\n",
    "            \n",
    "    obj1 = Complex(10, 20)\n",
    "    obj2 = Complex(40, 50)\n",
    "    \n",
    "    \n",
    "    print(\"-----------------\")\n",
    "    obj1 + obj2\n",
    "    \n",
    "    #Complex.__add__(obj1, obj2)\n",
    "    print(\"-----------------\")\n",
    "    \n",
    "if '__main__' == __name__:   \n",
    "    gfun2()\n",
    "    "
   ]
  },
  {
   "cell_type": "code",
   "execution_count": 38,
   "metadata": {},
   "outputs": [
    {
     "name": "stdout",
     "output_type": "stream",
     "text": [
      "-----------------\n",
      "lhs=<__main__.gfun2.<locals>.Complex object at 0x0484E5F0>, rhs=<__main__.gfun2.<locals>.Complex object at 0x0484E4B0>\n",
      "-----------------\n",
      "<__main__.gfun2.<locals>.Complex object at 0x0484E5F0>.real= 50, .imag= 70\n",
      "<__main__.gfun2.<locals>.Complex object at 0x0484E4B0>.real= 40, .imag= 50\n"
     ]
    }
   ],
   "source": [
    "\n",
    "def gfun2():\n",
    "    class Complex:\n",
    "        def __init__(self, r=0, i=0):\n",
    "            self.real = r\n",
    "            self.imag = i\n",
    "\n",
    "        def __add__(self, rhs):\n",
    "            print(f\"lhs={self}, rhs={rhs}\")\n",
    "            self.real += rhs.real\n",
    "            self.imag += rhs.imag\n",
    "            \n",
    "        def __del__(self):\n",
    "            print(f\"{self}.real= {self.real}, .imag= {self.imag}\")\n",
    "            \n",
    "    obj1 = Complex(10, 20)\n",
    "    obj2 = Complex(40, 50)\n",
    "    \n",
    "    \n",
    "    print(\"-----------------\")\n",
    "    obj1 + obj2\n",
    "    \n",
    "    #Complex.__add__(obj1, obj2)\n",
    "    print(\"-----------------\")\n",
    "    \n",
    "if '__main__' == __name__:   \n",
    "    gfun2()\n",
    "    "
   ]
  },
  {
   "cell_type": "code",
   "execution_count": 39,
   "metadata": {},
   "outputs": [
    {
     "name": "stdout",
     "output_type": "stream",
     "text": [
      "-----------------\n",
      "lhs=<__main__.gfun2.<locals>.Complex object at 0x04AFD3D0>, rhs=<__main__.gfun2.<locals>.Complex object at 0x04AFDA30>\n"
     ]
    },
    {
     "ename": "TypeError",
     "evalue": "unsupported operand type(s) for +: 'NoneType' and 'Complex'",
     "output_type": "error",
     "traceback": [
      "\u001b[1;31m---------------------------------------------------------------------------\u001b[0m",
      "\u001b[1;31mTypeError\u001b[0m                                 Traceback (most recent call last)",
      "\u001b[1;32m<ipython-input-39-269965591e49>\u001b[0m in \u001b[0;36m<module>\u001b[1;34m()\u001b[0m\n\u001b[0;32m     29\u001b[0m \u001b[1;33m\u001b[0m\u001b[0m\n\u001b[0;32m     30\u001b[0m \u001b[1;32mif\u001b[0m \u001b[1;34m'__main__'\u001b[0m \u001b[1;33m==\u001b[0m \u001b[0m__name__\u001b[0m\u001b[1;33m:\u001b[0m\u001b[1;33m\u001b[0m\u001b[0m\n\u001b[1;32m---> 31\u001b[1;33m     \u001b[0mgfun2\u001b[0m\u001b[1;33m(\u001b[0m\u001b[1;33m)\u001b[0m\u001b[1;33m\u001b[0m\u001b[0m\n\u001b[0m\u001b[0;32m     32\u001b[0m \u001b[1;33m\u001b[0m\u001b[0m\n",
      "\u001b[1;32m<ipython-input-39-269965591e49>\u001b[0m in \u001b[0;36mgfun2\u001b[1;34m()\u001b[0m\n\u001b[0;32m     21\u001b[0m \u001b[1;33m\u001b[0m\u001b[0m\n\u001b[0;32m     22\u001b[0m     \u001b[0mprint\u001b[0m\u001b[1;33m(\u001b[0m\u001b[1;34m\"-----------------\"\u001b[0m\u001b[1;33m)\u001b[0m\u001b[1;33m\u001b[0m\u001b[0m\n\u001b[1;32m---> 23\u001b[1;33m     \u001b[0mobj1\u001b[0m \u001b[1;33m+\u001b[0m \u001b[0mobj2\u001b[0m \u001b[1;33m+\u001b[0m \u001b[0mobj3\u001b[0m\u001b[1;33m\u001b[0m\u001b[0m\n\u001b[0m\u001b[0;32m     24\u001b[0m \u001b[1;33m\u001b[0m\u001b[0m\n\u001b[0;32m     25\u001b[0m     \u001b[1;31m#Complex.__add__(obj1, obj2)\u001b[0m\u001b[1;33m\u001b[0m\u001b[1;33m\u001b[0m\u001b[0m\n",
      "\u001b[1;31mTypeError\u001b[0m: unsupported operand type(s) for +: 'NoneType' and 'Complex'"
     ]
    }
   ],
   "source": [
    "\n",
    "def gfun2():\n",
    "    class Complex:\n",
    "        def __init__(self, r=0, i=0):\n",
    "            self.real = r\n",
    "            self.imag = i\n",
    "\n",
    "        def __add__(self, rhs):\n",
    "            print(f\"lhs={self}, rhs={rhs}\")\n",
    "            self.real += rhs.real\n",
    "            self.imag += rhs.imag\n",
    "            # return None\n",
    "            \n",
    "        def __del__(self):\n",
    "            print(f\"{self}.real= {self.real}, .imag= {self.imag}\")\n",
    "            \n",
    "    obj1 = Complex(10, 20)\n",
    "    obj2 = Complex(40, 50)\n",
    "    obj3 = Complex(60, 70)\n",
    "    \n",
    "    \n",
    "    print(\"-----------------\")\n",
    "    obj1 + obj2 + obj3\n",
    "    \n",
    "    #Complex.__add__(obj1, obj2)\n",
    "    print(\"-----------------\")\n",
    "    \n",
    "    print(\"-----------------\")\n",
    "    \n",
    "if '__main__' == __name__:   \n",
    "    gfun2()\n",
    "    "
   ]
  },
  {
   "cell_type": "code",
   "execution_count": 40,
   "metadata": {},
   "outputs": [
    {
     "name": "stdout",
     "output_type": "stream",
     "text": [
      "-----------------\n",
      "lhs=<__main__.gfun2.<locals>.Complex object at 0x04A838D0>, rhs=<__main__.gfun2.<locals>.Complex object at 0x04A83F90>\n",
      "-----------------\n",
      "-----------------\n",
      "<__main__.gfun2.<locals>.Complex object at 0x04A838D0>.real= 10, .imag= 20\n",
      "<__main__.gfun2.<locals>.Complex object at 0x04A83F90>.real= 40, .imag= 50\n",
      "<__main__.gfun2.<locals>.Complex object at 0x04A83CB0>.real= 50, .imag= 70\n"
     ]
    }
   ],
   "source": [
    "\n",
    "def gfun2():\n",
    "    class Complex:\n",
    "        def __init__(self, r=0, i=0):\n",
    "            self.real = r\n",
    "            self.imag = i\n",
    "\n",
    "        def __add__(self, rhs):\n",
    "            print(f\"lhs={self}, rhs={rhs}\")\n",
    "            temp = Complex( self.real + rhs.real, self.imag + rhs.imag)\n",
    "            return temp\n",
    "            # return None\n",
    "            \n",
    "        def __del__(self):\n",
    "            print(f\"{self}.real= {self.real}, .imag= {self.imag}\")\n",
    "            \n",
    "    obj1 = Complex(10, 20)\n",
    "    obj2 = Complex(40, 50)    \n",
    "    \n",
    "    print(\"-----------------\")\n",
    "    result = obj1 + obj2\n",
    "    \n",
    "    #Complex.__add__(obj1, obj2)\n",
    "    print(\"-----------------\")\n",
    "    \n",
    "    print(\"-----------------\")\n",
    "    \n",
    "if '__main__' == __name__:   \n",
    "    gfun2()\n",
    "    "
   ]
  },
  {
   "cell_type": "code",
   "execution_count": 42,
   "metadata": {},
   "outputs": [
    {
     "name": "stdout",
     "output_type": "stream",
     "text": [
      "-----------------\n",
      "----------\n",
      "lhs=<__main__.gfun2.<locals>.Complex object at 0x04B15390>, rhs=<__main__.gfun2.<locals>.Complex object at 0x04B153D0>\n",
      "----------\n",
      "lhs=<__main__.gfun2.<locals>.Complex object at 0x04B15430>, rhs=<__main__.gfun2.<locals>.Complex object at 0x04B153F0>\n",
      "<__main__.gfun2.<locals>.Complex object at 0x04B15430>.real= 50, .imag= 70\n",
      "-----------------\n",
      "-----------------\n",
      "<__main__.gfun2.<locals>.Complex object at 0x04B15390>.real= 10, .imag= 20\n",
      "<__main__.gfun2.<locals>.Complex object at 0x04B153D0>.real= 40, .imag= 50\n",
      "<__main__.gfun2.<locals>.Complex object at 0x04B153F0>.real= 60, .imag= 70\n",
      "<__main__.gfun2.<locals>.Complex object at 0x04B15470>.real= 110, .imag= 140\n"
     ]
    }
   ],
   "source": [
    "\n",
    "def gfun2():\n",
    "    class Complex:\n",
    "        def __init__(self, r=0, i=0):\n",
    "            self.real = r\n",
    "            self.imag = i\n",
    "\n",
    "        def __add__(self, rhs):\n",
    "            print(\"-\" * 10)\n",
    "            print(f\"lhs={self}, rhs={rhs}\")\n",
    "            return Complex( self.real + rhs.real, self.imag + rhs.imag)\n",
    "            # return None\n",
    "            \n",
    "        def __del__(self):\n",
    "            print(f\"{self}.real= {self.real}, .imag= {self.imag}\")\n",
    "            \n",
    "    obj1 = Complex(10, 20)\n",
    "    obj2 = Complex(40, 50)   \n",
    "    obj3 = Complex(60, 70) \n",
    "    \n",
    "    print(\"-----------------\")\n",
    "    result = obj1 + obj2 + obj3\n",
    "    \n",
    "    #Complex.__add__(obj1, obj2).__add__(retVal, obj3)\n",
    "    print(\"-----------------\")\n",
    "    \n",
    "    print(\"-----------------\")\n",
    "    \n",
    "if '__main__' == __name__:   \n",
    "    gfun2()\n",
    "    "
   ]
  },
  {
   "cell_type": "code",
   "execution_count": null,
   "metadata": {},
   "outputs": [],
   "source": [
    "\"\"\"\n",
    "+ => __add__\n",
    "- => __sub__\n",
    "* => __mul__\n",
    "% => __mod__\n",
    "/ => __truediv__\n",
    "// => __floordiv__\n",
    "\"\"\""
   ]
  },
  {
   "cell_type": "code",
   "execution_count": 43,
   "metadata": {},
   "outputs": [
    {
     "name": "stdout",
     "output_type": "stream",
     "text": [
      "-----------------\n",
      "----------\n",
      "__add__\n",
      "----------\n",
      "__add__\n",
      "<__main__.gfun2.<locals>.Complex object at 0x04AFD3B0>.real= 50, .imag= 70\n",
      "-----------------\n",
      "-----------------\n",
      "<__main__.gfun2.<locals>.Complex object at 0x04AFD2B0>.real= 10, .imag= 20\n",
      "<__main__.gfun2.<locals>.Complex object at 0x04AFDB30>.real= 40, .imag= 50\n",
      "<__main__.gfun2.<locals>.Complex object at 0x04AFD050>.real= 60, .imag= 70\n",
      "<__main__.gfun2.<locals>.Complex object at 0x04AFD370>.real= 110, .imag= 140\n"
     ]
    }
   ],
   "source": [
    "\n",
    "def gfun2():\n",
    "    class Complex:\n",
    "        def __init__(self, r=0, i=0):\n",
    "            self.real = r\n",
    "            self.imag = i\n",
    "\n",
    "        def __add__(self, rhs):\n",
    "            print(\"-\" * 10)\n",
    "            print(\"__add__\")\n",
    "            return Complex( self.real + rhs.real, self.imag + rhs.imag)\n",
    "            # return None\n",
    "            \n",
    "        def __del__(self):\n",
    "            print(f\"{self}.real= {self.real}, .imag= {self.imag}\")\n",
    "            \n",
    "    obj1 = Complex(10, 20)\n",
    "    obj2 = Complex(40, 50)   \n",
    "    obj3 = Complex(60, 70) \n",
    "    \n",
    "    print(\"-----------------\")\n",
    "    result = obj1 + obj2 + obj3\n",
    "    \n",
    "    #Complex.__add__(obj1, obj2).__add__(retVal, obj3)\n",
    "    print(\"-----------------\")\n",
    "    \n",
    "    print(\"-----------------\")\n",
    "    \n",
    "if '__main__' == __name__:   \n",
    "    gfun2()"
   ]
  },
  {
   "cell_type": "code",
   "execution_count": null,
   "metadata": {},
   "outputs": [],
   "source": []
  }
 ],
 "metadata": {
  "kernelspec": {
   "display_name": "Python 3",
   "language": "python",
   "name": "python3"
  },
  "language_info": {
   "codemirror_mode": {
    "name": "ipython",
    "version": 3
   },
   "file_extension": ".py",
   "mimetype": "text/x-python",
   "name": "python",
   "nbconvert_exporter": "python",
   "pygments_lexer": "ipython3",
   "version": "3.6.4"
  }
 },
 "nbformat": 4,
 "nbformat_minor": 2
}
